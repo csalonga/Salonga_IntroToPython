{
 "cells": [
  {
   "cell_type": "markdown",
   "metadata": {},
   "source": [
    "## Student ID: 184310\n",
    "## Surname: Salonga\n",
    "## Year and Course: 3 BS ITE"
   ]
  },
  {
   "cell_type": "code",
   "execution_count": 1,
   "metadata": {},
   "outputs": [],
   "source": [
    "def threenumbers (firstnumber,secondnumber,thirdnumber):\n",
    "    total = firstnumber + secondnumber + thirdnumber\n",
    "    return total\n",
    "    \n",
    "def three_number_average (total):\n",
    "    average = total/3\n",
    "    return average\n",
    "    "
   ]
  },
  {
   "cell_type": "code",
   "execution_count": 2,
   "metadata": {},
   "outputs": [
    {
     "name": "stdout",
     "output_type": "stream",
     "text": [
      "Enter the first number: 100\n",
      "Enter the second number: 200\n",
      "Enter the third number: 0\n",
      "The average is:  100.0\n"
     ]
    }
   ],
   "source": [
    "#enter first number\n",
    "firstnumber = float(input(\"Enter the first number: \"))\n",
    "\n",
    "#enter second number\n",
    "secondnumber = float(input(\"Enter the second number: \"))\n",
    "\n",
    "#enter third number\n",
    "thirdnumber = float(input(\"Enter the third number: \"))\n",
    "\n",
    "#add all three\n",
    "total = threenumbers (firstnumber,secondnumber,thirdnumber)\n",
    "\n",
    "#compute average\n",
    "average = three_number_average (total)\n",
    "\n",
    "#print average\n",
    "print(\"The average is: \", average)\n"
   ]
  },
  {
   "cell_type": "code",
   "execution_count": null,
   "metadata": {},
   "outputs": [],
   "source": []
  }
 ],
 "metadata": {
  "kernelspec": {
   "display_name": "Python 3",
   "language": "python",
   "name": "python3"
  },
  "language_info": {
   "codemirror_mode": {
    "name": "ipython",
    "version": 3
   },
   "file_extension": ".py",
   "mimetype": "text/x-python",
   "name": "python",
   "nbconvert_exporter": "python",
   "pygments_lexer": "ipython3",
   "version": "3.8.3"
  }
 },
 "nbformat": 4,
 "nbformat_minor": 4
}
